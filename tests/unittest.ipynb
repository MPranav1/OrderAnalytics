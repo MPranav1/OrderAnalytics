{
 "cells": [
  {
   "cell_type": "code",
   "execution_count": 8,
   "id": "e6b8428d-e00b-43a2-a612-7a5b8c136709",
   "metadata": {},
   "outputs": [
    {
     "name": "stdout",
     "output_type": "stream",
     "text": [
      "Collecting xmlrunner\n",
      "  Downloading xmlrunner-1.7.7.tar.gz (5.6 kB)\n",
      "  Preparing metadata (setup.py): started\n",
      "  Preparing metadata (setup.py): finished with status 'done'\n",
      "Building wheels for collected packages: xmlrunner\n",
      "  Building wheel for xmlrunner (setup.py): started\n",
      "  Building wheel for xmlrunner (setup.py): finished with status 'done'\n",
      "  Created wheel for xmlrunner: filename=xmlrunner-1.7.7-py3-none-any.whl size=6232 sha256=07e638a381908da319eca8c115315c8e30aec7f3bec0e3cd3cab4b87ccec3d4a\n",
      "  Stored in directory: c:\\users\\hp\\appdata\\local\\pip\\cache\\wheels\\5b\\0e\\9e\\beb68507e2c1389e43d8e7f3df6038ede3564ab43487861644\n",
      "Successfully built xmlrunner\n",
      "Installing collected packages: xmlrunner\n",
      "Successfully installed xmlrunner-1.7.7\n"
     ]
    }
   ],
   "source": [
    "!pip install xmlrunner"
   ]
  },
  {
   "cell_type": "code",
   "execution_count": 13,
   "id": "bf7bbf64-d8f3-4942-bd04-1270378bda84",
   "metadata": {},
   "outputs": [],
   "source": [
    "# import unittest\n",
    "# import pandas as pd\n",
    "# from xmlrunner import XMLTestRunner"
   ]
  },
  {
   "cell_type": "code",
   "execution_count": 14,
   "id": "e0bd93de-7e21-41fd-a27b-35f2f7f103af",
   "metadata": {},
   "outputs": [],
   "source": [
    "# Create a test file\n",
    "with open(\"test_order_analysis.py\", \"w\") as f:\n",
    "    f.write(\"\"\"\n",
    "import unittest\n",
    "import pandas as pd\n",
    "\n",
    "class TestOrderAnalysis(unittest.TestCase):\n",
    "\n",
    "    def setUp(self):\n",
    "        # Load the actual dataset\n",
    "        self.df = pd.read_csv('orders.csv')\n",
    "        self.df['order_date'] = pd.to_datetime(self.df['order_date'])\n",
    "\n",
    "    def test_monthly_revenue(self):\n",
    "        self.df['month'] = self.df['order_date'].dt.to_period('M')\n",
    "        monthly_revenue = self.df.groupby('month').apply(\n",
    "            lambda x: (x['product_price'] * x['quantity']).sum()\n",
    "        ).reset_index(name='total_revenue')\n",
    "        self.assertEqual(\n",
    "            monthly_revenue['total_revenue'].sum(),\n",
    "            self.df['product_price'].mul(self.df['quantity']).sum()\n",
    "        )  # Total revenue\n",
    "\n",
    "    def test_product_revenue(self):\n",
    "        product_name = self.df['product_name'].iloc[0]  # Taking the first product name for example\n",
    "        product_revenue = self.df.groupby('product_name').apply(\n",
    "            lambda x: (x['product_price'] * x['quantity']).sum()\n",
    "        ).reset_index(name='total_revenue')\n",
    "        expected_revenue = self.df[self.df['product_name'] == product_name].apply(\n",
    "            lambda x: x['product_price'] * x['quantity'], axis=1\n",
    "        ).sum()\n",
    "        self.assertEqual(\n",
    "            product_revenue.loc[product_revenue['product_name'] == product_name, 'total_revenue'].values[0],\n",
    "            expected_revenue\n",
    "        )\n",
    "\n",
    "    def test_customer_revenue(self):\n",
    "        customer_revenue = self.df.groupby('customer_id').apply(\n",
    "            lambda x: (x['product_price'] * x['quantity']).sum()\n",
    "        ).reset_index(name='total_revenue')\n",
    "        customer_id = self.df['customer_id'].iloc[0]  # Taking the first customer_id for example\n",
    "        expected_revenue = self.df[self.df['customer_id'] == customer_id].apply(\n",
    "            lambda x: x['product_price'] * x['quantity'], axis=1\n",
    "        ).sum()\n",
    "        self.assertEqual(\n",
    "            customer_revenue.loc[customer_revenue['customer_id'] == customer_id, 'total_revenue'].values[0],\n",
    "            expected_revenue\n",
    "        )\n",
    "\n",
    "    def test_top_customers(self):\n",
    "        customer_revenue = self.df.groupby('customer_id').apply(\n",
    "            lambda x: (x['product_price'] * x['quantity']).sum()\n",
    "        ).reset_index(name='total_revenue')\n",
    "        top_customers = customer_revenue.nlargest(10, 'total_revenue')\n",
    "        top_customer_id = customer_revenue.nlargest(1, 'total_revenue').iloc[0]['customer_id']\n",
    "        expected_top_customer_id = self.df.groupby('customer_id').apply(\n",
    "            lambda x: (x['product_price'] * x['quantity']).sum()\n",
    "        ).nlargest(1).index[0]\n",
    "        self.assertEqual(top_customer_id, expected_top_customer_id)\n",
    "\n",
    "if __name__ == '__main__':\n",
    "    unittest.main()\n",
    "\"\"\")\n"
   ]
  },
  {
   "cell_type": "code",
   "execution_count": 12,
   "id": "42759349-75df-49c7-9d09-0213dd7eed26",
   "metadata": {},
   "outputs": [],
   "source": [
    "# if __name__ == '__main__':\n",
    "#     with open('test-reports.xml', 'wb') as output:\n",
    "#         unittest.main(testRunner=XMLTestRunner(output=output), verbosity=2)"
   ]
  },
  {
   "cell_type": "code",
   "execution_count": 15,
   "id": "31fa62d1-9b88-425e-8ceb-f5ccaec305d4",
   "metadata": {},
   "outputs": [
    {
     "name": "stdout",
     "output_type": "stream",
     "text": [
      "\u001b[1m============================= test session starts =============================\u001b[0m\n",
      "platform win32 -- Python 3.11.7, pytest-7.4.0, pluggy-1.0.0 -- C:\\Users\\HP\\anaconda3\\python.exe\n",
      "cachedir: .pytest_cache\n",
      "rootdir: C:\\Users\\HP\\Desktop\\Tanxfi\n",
      "plugins: anyio-4.2.0, Faker-9.3.1\n",
      "\u001b[1mcollecting ... \u001b[0mcollected 4 items\n",
      "\n",
      "test_order_analysis.py::TestOrderAnalysis::test_customer_revenue \u001b[32mPASSED\u001b[0m\u001b[32m  [ 25%]\u001b[0m\n",
      "test_order_analysis.py::TestOrderAnalysis::test_monthly_revenue \u001b[32mPASSED\u001b[0m\u001b[32m   [ 50%]\u001b[0m\n",
      "test_order_analysis.py::TestOrderAnalysis::test_product_revenue \u001b[32mPASSED\u001b[0m\u001b[32m   [ 75%]\u001b[0m\n",
      "test_order_analysis.py::TestOrderAnalysis::test_top_customers \u001b[32mPASSED\u001b[0m\u001b[32m     [100%]\u001b[0m\n",
      "\n",
      "\u001b[32m============================== \u001b[32m\u001b[1m4 passed\u001b[0m\u001b[32m in 2.26s\u001b[0m\u001b[32m ==============================\u001b[0m\n"
     ]
    }
   ],
   "source": [
    "!pytest test_order_analysis.py -v --tb=short"
   ]
  },
  {
   "cell_type": "code",
   "execution_count": null,
   "id": "23d2cf42-78bb-4e7f-9108-0628636dd3d8",
   "metadata": {},
   "outputs": [],
   "source": []
  }
 ],
 "metadata": {
  "kernelspec": {
   "display_name": "Python 3 (ipykernel)",
   "language": "python",
   "name": "python3"
  },
  "language_info": {
   "codemirror_mode": {
    "name": "ipython",
    "version": 3
   },
   "file_extension": ".py",
   "mimetype": "text/x-python",
   "name": "python",
   "nbconvert_exporter": "python",
   "pygments_lexer": "ipython3",
   "version": "3.11.7"
  }
 },
 "nbformat": 4,
 "nbformat_minor": 5
}
