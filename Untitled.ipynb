{
 "cells": [
  {
   "cell_type": "code",
   "execution_count": 2,
   "id": "fe65c83a-4e00-46df-8787-dfe3d129d6d0",
   "metadata": {},
   "outputs": [],
   "source": [
    "# Step 1: Write Dockerfile\n",
    "dockerfile_content = \"\"\"\n",
    "FROM python:3.9-slim\n",
    "WORKDIR /app\n",
    "COPY . /app\n",
    "RUN pip install --no-cache-dir -r requirements.txt\n",
    "CMD [\"python\", \"app.py\"]\n",
    "\"\"\"\n",
    "\n",
    "with open('Dockerfile', 'w') as file:\n",
    "    file.write(dockerfile_content)"
   ]
  },
  {
   "cell_type": "code",
   "execution_count": null,
   "id": "9f4356b4-e8c1-4405-a3eb-b7833765486e",
   "metadata": {},
   "outputs": [],
   "source": []
  }
 ],
 "metadata": {
  "kernelspec": {
   "display_name": "Python 3 (ipykernel)",
   "language": "python",
   "name": "python3"
  },
  "language_info": {
   "codemirror_mode": {
    "name": "ipython",
    "version": 3
   },
   "file_extension": ".py",
   "mimetype": "text/x-python",
   "name": "python",
   "nbconvert_exporter": "python",
   "pygments_lexer": "ipython3",
   "version": "3.11.7"
  }
 },
 "nbformat": 4,
 "nbformat_minor": 5
}
