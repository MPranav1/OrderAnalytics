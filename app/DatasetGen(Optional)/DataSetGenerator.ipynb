{
 "cells": [
  {
   "cell_type": "code",
   "execution_count": 1,
   "id": "f0ab2c9d-8639-497f-b494-a440fa690e6b",
   "metadata": {},
   "outputs": [
    {
     "name": "stdout",
     "output_type": "stream",
     "text": [
      "Requirement already satisfied: Faker in c:\\users\\hp\\anaconda3\\lib\\site-packages (9.3.1)\n",
      "Requirement already satisfied: python-dateutil>=2.4 in c:\\users\\hp\\anaconda3\\lib\\site-packages (from Faker) (2.9.0.post0)\n",
      "Requirement already satisfied: text-unidecode==1.3 in c:\\users\\hp\\anaconda3\\lib\\site-packages (from Faker) (1.3)\n",
      "Requirement already satisfied: six>=1.5 in c:\\users\\hp\\anaconda3\\lib\\site-packages (from python-dateutil>=2.4->Faker) (1.16.0)\n"
     ]
    }
   ],
   "source": [
    "!pip install Faker"
   ]
  },
  {
   "cell_type": "code",
   "execution_count": 2,
   "id": "f45cb952-8f0e-4589-a589-9346fc2597d4",
   "metadata": {},
   "outputs": [],
   "source": [
    "import pandas as pd\n",
    "from faker import Faker\n",
    "import random\n"
   ]
  },
  {
   "cell_type": "code",
   "execution_count": 3,
   "id": "fce73e3c-3daa-4649-8a7f-9af89b917e86",
   "metadata": {},
   "outputs": [],
   "source": [
    "fake = Faker()"
   ]
  },
  {
   "cell_type": "code",
   "execution_count": 4,
   "id": "528f75a9-f5f4-47b9-bd6f-7ba6ccd8c5e5",
   "metadata": {},
   "outputs": [],
   "source": [
    "def generate_order_data(num_orders):\n",
    "  data = []\n",
    "  for _ in range(num_orders):\n",
    "    order_id = fake.uuid4()\n",
    "    customer_id = fake.uuid4()\n",
    "    order_date = fake.date_between(start_date='-1y', end_date='today')\n",
    "    product_id = fake.uuid4()\n",
    "    product_name = fake.word()\n",
    "    product_price = round(random.uniform(10, 100), 2)\n",
    "    quantity = random.randint(1, 5)\n",
    "    data.append([order_id, customer_id, order_date, product_id, product_name, product_price, quantity])\n",
    "  return data\n",
    "\n",
    "def create_dataframe(data):\n",
    "  df = pd.DataFrame(data, columns=['order_id', 'customer_id', 'order_date', 'product_id', 'product_name', 'product_price', 'quantity'])\n",
    "  return df\n"
   ]
  },
  {
   "cell_type": "code",
   "execution_count": 5,
   "id": "e45fb42b-42a4-4cf6-af13-c0435ac11208",
   "metadata": {},
   "outputs": [],
   "source": [
    "num_orders = 1000  # Adjust the number of orders as needed\n",
    "data = generate_order_data(num_orders)\n",
    "df = create_dataframe(data)"
   ]
  },
  {
   "cell_type": "code",
   "execution_count": 7,
   "id": "46956e70-fdc8-4589-855f-c9f46049618c",
   "metadata": {},
   "outputs": [
    {
     "name": "stdout",
     "output_type": "stream",
     "text": [
      "                               order_id                           customer_id  \\\n",
      "0  2ceb344a-e90e-4828-b886-943f0c30e4db  f5a0439b-b672-4570-831b-c84795eb720f   \n",
      "1  dac299e4-4c1c-4130-a431-72d7ae90e45e  41310921-e50e-4be2-8980-67412eac316f   \n",
      "2  56bba1e8-ab7a-49e0-bb70-540d83909bf8  835778bb-d199-4d66-a25c-91d79e8a2d09   \n",
      "3  690ad02b-aa64-4643-ae12-55039cd61dcd  ed7df837-d0be-40bc-a1e8-298e7e1ec7c4   \n",
      "4  cce95f6b-d2c4-4fc8-a43e-149e3f2cbc9b  257f0fa0-d94f-4e15-88ed-6db99a075c82   \n",
      "\n",
      "   order_date                            product_id product_name  \\\n",
      "0  2023-09-26  397470dd-de44-48a5-b438-19144509e597         back   \n",
      "1  2023-11-29  90310415-4afa-46f2-90c3-b7880a28bb82         vote   \n",
      "2  2024-05-31  4aba2765-031e-4d55-a49d-8a84bd016677         room   \n",
      "3  2023-12-27  b3f985ad-e43b-4601-9aed-af29ef347f71         data   \n",
      "4  2024-05-13  450ce327-901f-4df7-a805-f6cb82bbbdef        thing   \n",
      "\n",
      "   product_price  quantity  \n",
      "0          82.19         2  \n",
      "1          42.01         4  \n",
      "2          15.32         3  \n",
      "3          36.18         2  \n",
      "4          12.44         2  \n"
     ]
    }
   ],
   "source": [
    "print(df.head())  # View the first few rows\n",
    "df.to_csv('orders.csv', index=False)  # Save to CSV\n"
   ]
  },
  {
   "cell_type": "code",
   "execution_count": null,
   "id": "d8678b71-0123-4d0e-967a-0544c56121b5",
   "metadata": {},
   "outputs": [],
   "source": []
  }
 ],
 "metadata": {
  "kernelspec": {
   "display_name": "Python 3 (ipykernel)",
   "language": "python",
   "name": "python3"
  },
  "language_info": {
   "codemirror_mode": {
    "name": "ipython",
    "version": 3
   },
   "file_extension": ".py",
   "mimetype": "text/x-python",
   "name": "python",
   "nbconvert_exporter": "python",
   "pygments_lexer": "ipython3",
   "version": "3.11.7"
  }
 },
 "nbformat": 4,
 "nbformat_minor": 5
}
